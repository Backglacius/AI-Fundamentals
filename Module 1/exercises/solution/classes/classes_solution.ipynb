{
 "cells": [
  {
   "cell_type": "markdown",
   "id": "c006b08e",
   "metadata": {},
   "source": [
    "## Homework – OOP with Animals\n",
    "\n",
    "**1. Base class design**  \n",
    "*Create a class named Animals with the following properties: name, age, gender, color, and species.*\n",
    "\n",
    "**The class must include:**\n",
    "- Getters for each property\n",
    "- A method to return all the information as a formatted string\n",
    "- A method to set the animal's weight in kilograms, by passing the value in pounds\n",
    "\n",
    "**2. Inheritance and unique attributes**  \n",
    "*Create four subclasses that inherit from Animals: Dog, Cat, Bird, and Cow.*\n",
    "\n",
    "**Each subclass should:**\n",
    "- Inherit all properties and methods from Animals\n",
    "- Add at least one unique attribute (e.g., breed for Dog, is_dairy for Cow, etc.)\n",
    "- Override the make_sound method with the correct animal sound\n",
    "- Add at least one unique method relevant to that animal (e.g., fetch for Dog, scratch for Cat)\n",
    "\n",
    "**3. Usage example**\n",
    "Write an example in which you create one object of each subclass, set their weight in pounds, and print their information using the class methods.\n",
    "\n",
    "**4. (Optional) Polymorphism**\n",
    "Write a function that takes a list of Animals objects (could be dogs, cats, etc.), and for each one prints their information and the sound they make.\n",
    "\n"
   ]
  },
  {
   "cell_type": "markdown",
   "id": "2d3309b2",
   "metadata": {},
   "source": [
    "### Libraries"
   ]
  },
  {
   "cell_type": "code",
   "execution_count": 1,
   "id": "b48a7ad6",
   "metadata": {},
   "outputs": [],
   "source": [
    "from classAnimals import Animals\n",
    "from bird import Bird\n",
    "from cat import Cat\n",
    "from dog import Dog\n",
    "from cow import Cow"
   ]
  },
  {
   "cell_type": "markdown",
   "id": "6b397c0e",
   "metadata": {},
   "source": [
    "### Creating class' objects"
   ]
  },
  {
   "cell_type": "code",
   "execution_count": 2,
   "id": "dd9d650a",
   "metadata": {},
   "outputs": [],
   "source": [
    "dog1 = Dog(\"Max\", 5, \"Male\", \"Black\", \"Labrador\")\n",
    "dog1.set_weight_from_pounds(55)  # 55 lbs\n",
    "\n",
    "cat1 = Cat(\"Luna\", 2, \"Female\", \"White\", True)\n",
    "bird1 = Bird(\"Tweety\", 1, \"Female\", \"Yellow\", True)\n",
    "cow1 = Cow(\"Bessie\", 6, \"Female\", \"Brown\", True)"
   ]
  },
  {
   "cell_type": "code",
   "execution_count": 3,
   "id": "2de73fd9",
   "metadata": {},
   "outputs": [
    {
     "name": "stdout",
     "output_type": "stream",
     "text": [
      "Name: Max\n",
      "Age: 5\n",
      "Adult: Yes\n",
      "Gender: Male\n",
      "Color: Black\n",
      "Species: Dog\n",
      "Weight: 24.95 kg\n",
      "Breed: Labrador\n",
      "Dog sound: Woof!\n",
      "Max fetches the stick!\n",
      "---\n",
      "\n",
      "Name: Luna\n",
      "Age: 2\n",
      "Adult: No\n",
      "Gender: Female\n",
      "Color: White\n",
      "Species: Cat\n",
      "Type: Indoor\n",
      "Cat sound: Meow!\n",
      "Luna is scratching something!\n",
      "---\n",
      "\n",
      "Name: Tweety\n",
      "Age: 1\n",
      "Adult: No\n",
      "Gender: Female\n",
      "Color: Yellow\n",
      "Species: Bird\n",
      "Flight: Can fly\n",
      "Bird sound: Tweet!\n",
      "Tweety is flying!\n",
      "---\n",
      "\n",
      "Name: Bessie\n",
      "Age: 6\n",
      "Adult: Yes\n",
      "Gender: Female\n",
      "Color: Brown\n",
      "Species: Cow\n",
      "Type: Dairy\n",
      "Cow sound: Moo!\n",
      "Bessie produces milk.\n"
     ]
    }
   ],
   "source": [
    "print(dog1.get_info())\n",
    "print(\"Dog sound:\", dog1.make_sound())\n",
    "print(dog1.fetch(\"stick\"))\n",
    "print(\"---\\n\")\n",
    "\n",
    "print(cat1.get_info())\n",
    "print(\"Cat sound:\", cat1.make_sound())\n",
    "print(cat1.scratch())\n",
    "print(\"---\\n\")\n",
    "\n",
    "print(bird1.get_info())\n",
    "print(\"Bird sound:\", bird1.make_sound())\n",
    "print(bird1.fly())\n",
    "print(\"---\\n\")\n",
    "\n",
    "print(cow1.get_info())\n",
    "print(\"Cow sound:\", cow1.make_sound())\n",
    "print(cow1.produce_milk())"
   ]
  },
  {
   "cell_type": "markdown",
   "id": "34204d7a",
   "metadata": {},
   "source": [
    "### Polymorphism"
   ]
  },
  {
   "cell_type": "code",
   "execution_count": 4,
   "id": "b6249fbe",
   "metadata": {},
   "outputs": [
    {
     "name": "stdout",
     "output_type": "stream",
     "text": [
      "Name: Max\n",
      "Age: 5\n",
      "Adult: Yes\n",
      "Gender: Male\n",
      "Color: Black\n",
      "Species: Dog\n",
      "Weight: 24.95 kg\n",
      "Breed: Labrador\n",
      "Sound: Woof!\n",
      "---\n",
      "\n",
      "Name: Luna\n",
      "Age: 2\n",
      "Adult: No\n",
      "Gender: Female\n",
      "Color: White\n",
      "Species: Cat\n",
      "Type: Indoor\n",
      "Sound: Meow!\n",
      "---\n",
      "\n",
      "Name: Tweety\n",
      "Age: 1\n",
      "Adult: No\n",
      "Gender: Female\n",
      "Color: Yellow\n",
      "Species: Bird\n",
      "Flight: Can fly\n",
      "Sound: Tweet!\n",
      "---\n",
      "\n",
      "Name: Bessie\n",
      "Age: 6\n",
      "Adult: Yes\n",
      "Gender: Female\n",
      "Color: Brown\n",
      "Species: Cow\n",
      "Type: Dairy\n",
      "Sound: Moo!\n",
      "---\n",
      "\n"
     ]
    }
   ],
   "source": [
    "zoo = [dog1, cat1, bird1, cow1]\n",
    "\n",
    "for animal in zoo:\n",
    "    print(animal.get_info())\n",
    "    print(\"Sound:\", animal.make_sound())\n",
    "    print(\"---\\n\")"
   ]
  },
  {
   "cell_type": "markdown",
   "id": "0538ff35",
   "metadata": {},
   "source": [
    "### Ejemplo con otro método polimórfico"
   ]
  },
  {
   "cell_type": "code",
   "execution_count": 5,
   "id": "c0190cb8",
   "metadata": {},
   "outputs": [
    {
     "name": "stdout",
     "output_type": "stream",
     "text": [
      "Name: Max\n",
      "Age: 5\n",
      "Adult: Yes\n",
      "Gender: Male\n",
      "Color: Black\n",
      "Species: Dog\n",
      "Weight: 24.95 kg\n",
      "Breed: Labrador\n",
      "Max fetches the ball!\n",
      "---\n",
      "Name: Luna\n",
      "Age: 2\n",
      "Adult: No\n",
      "Gender: Female\n",
      "Color: White\n",
      "Species: Cat\n",
      "Type: Indoor\n",
      "Luna is scratching something!\n",
      "---\n",
      "Name: Tweety\n",
      "Age: 1\n",
      "Adult: No\n",
      "Gender: Female\n",
      "Color: Yellow\n",
      "Species: Bird\n",
      "Flight: Can fly\n",
      "Tweety is flying!\n",
      "---\n",
      "Name: Bessie\n",
      "Age: 6\n",
      "Adult: Yes\n",
      "Gender: Female\n",
      "Color: Brown\n",
      "Species: Cow\n",
      "Type: Dairy\n",
      "Bessie produces milk.\n",
      "---\n"
     ]
    }
   ],
   "source": [
    "for animal in zoo:\n",
    "    print(animal.get_info())\n",
    "    # Si cada animal tiene un método único (fetch, fly, scratch, produce_milk), puedes comprobar si existe:\n",
    "    if hasattr(animal, \"fetch\"):\n",
    "        print(animal.fetch(\"ball\"))\n",
    "    if hasattr(animal, \"fly\"):\n",
    "        print(animal.fly())\n",
    "    if hasattr(animal, \"scratch\"):\n",
    "        print(animal.scratch())\n",
    "    if hasattr(animal, \"produce_milk\"):\n",
    "        print(animal.produce_milk())\n",
    "    print(\"---\")\n"
   ]
  }
 ],
 "metadata": {
  "kernelspec": {
   "display_name": "ai-fundamentals",
   "language": "python",
   "name": "python3"
  },
  "language_info": {
   "codemirror_mode": {
    "name": "ipython",
    "version": 3
   },
   "file_extension": ".py",
   "mimetype": "text/x-python",
   "name": "python",
   "nbconvert_exporter": "python",
   "pygments_lexer": "ipython3",
   "version": "3.12.9"
  }
 },
 "nbformat": 4,
 "nbformat_minor": 5
}
